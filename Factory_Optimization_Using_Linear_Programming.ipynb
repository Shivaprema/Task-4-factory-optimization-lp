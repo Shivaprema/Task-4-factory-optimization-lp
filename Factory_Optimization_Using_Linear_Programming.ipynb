{
  "nbformat": 4,
  "nbformat_minor": 0,
  "metadata": {
    "colab": {
      "provenance": []
    },
    "kernelspec": {
      "name": "python3",
      "display_name": "Python 3"
    },
    "language_info": {
      "name": "python"
    }
  },
  "cells": [
    {
      "cell_type": "code",
      "execution_count": 1,
      "metadata": {
        "colab": {
          "base_uri": "https://localhost:8080/"
        },
        "id": "Mjy7QJvnXvEb",
        "outputId": "6b5a60e6-e2ab-4f9c-89f1-02e6cf8307f2"
      },
      "outputs": [
        {
          "output_type": "stream",
          "name": "stdout",
          "text": [
            "Collecting pulp\n",
            "  Downloading pulp-3.2.1-py3-none-any.whl.metadata (6.9 kB)\n",
            "Downloading pulp-3.2.1-py3-none-any.whl (16.4 MB)\n",
            "\u001b[2K   \u001b[90m━━━━━━━━━━━━━━━━━━━━━━━━━━━━━━━━━━━━━━━━\u001b[0m \u001b[32m16.4/16.4 MB\u001b[0m \u001b[31m23.9 MB/s\u001b[0m eta \u001b[36m0:00:00\u001b[0m\n",
            "\u001b[?25hInstalling collected packages: pulp\n",
            "Successfully installed pulp-3.2.1\n",
            "🔎 Optimization Status: Optimal\n",
            "✅ Units of Product A to produce: 20.0\n",
            "✅ Units of Product B to produce: 15.0\n",
            "💰 Maximum Profit: ₹ 1550.0\n",
            "\n",
            "📊 Business Insight:\n",
            "To maximize profit, the factory should produce the above units of Product A and B within the available resources.\n"
          ]
        }
      ],
      "source": [
        "# ✅ Step 1: Install PuLP\n",
        "!pip install pulp\n",
        "\n",
        "# ✅ Step 2: Import required modules\n",
        "from pulp import LpMaximize, LpProblem, LpVariable, value, LpStatus\n",
        "\n",
        "# ✅ Step 3: Define the Linear Programming problem\n",
        "model = LpProblem(\"Factory_Profit_Optimization\", LpMaximize)\n",
        "\n",
        "# ✅ Step 4: Define decision variables\n",
        "A = LpVariable(\"Product_A\", lowBound=0, cat=\"Integer\")  # units of Product A\n",
        "B = LpVariable(\"Product_B\", lowBound=0, cat=\"Integer\")  # units of Product B\n",
        "\n",
        "# ✅ Step 5: Define the objective function (maximize profit)\n",
        "model += 40 * A + 50 * B, \"Total_Profit\"\n",
        "\n",
        "# ✅ Step 6: Add resource constraints\n",
        "model += 2 * A + 4 * B <= 100, \"Machine_Time_Constraint\"\n",
        "model += 3 * A + 2 * B <= 90, \"Raw_Material_Constraint\"\n",
        "\n",
        "# ✅ Step 7: Solve the LP problem\n",
        "model.solve()\n",
        "\n",
        "# ✅ Step 8: Display the results\n",
        "print(\"🔎 Optimization Status:\", LpStatus[model.status])\n",
        "print(\"✅ Units of Product A to produce:\", A.varValue)\n",
        "print(\"✅ Units of Product B to produce:\", B.varValue)\n",
        "print(\"💰 Maximum Profit: ₹\", value(model.objective))\n",
        "\n",
        "# ✅ Step 9: Insight\n",
        "print(\"\\n📊 Business Insight:\")\n",
        "print(\"To maximize profit, the factory should produce the above units of Product A and B within the available resources.\")\n"
      ]
    }
  ]
}